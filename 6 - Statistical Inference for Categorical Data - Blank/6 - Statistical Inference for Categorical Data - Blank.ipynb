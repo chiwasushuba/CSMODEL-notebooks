{
 "cells": [
  {
   "cell_type": "markdown",
   "metadata": {},
   "source": [
    "# Statistical Inference on Categorical Data\n",
    "In this Notebook, we will work on more statisical inference, focusing primarily on categorical data. The first two parts of this Notebook is mostly adopted from the [Inferential Statistics](https://www.coursera.org/learn/inferential-statistics-intro/home/welcome) course of Duke University, converted from R to Python and tweaked to match the needs of our CSMODEL course.\n",
    "\n",
    "Our Notebooks in CSMODEL are designed to be guided learning activities. To use them, simply through the cells from top to bottom, following the directions along the way. If you find any unclear parts or mistakes in the Notebooks, email your instructor."
   ]
  },
  {
   "cell_type": "markdown",
   "metadata": {},
   "source": [
    "## Instructions\n",
    "* Read each cell and implement the TODOs sequentially. The markdown/text cells also contain instructions which you need to follow to get the whole notebook working.\n",
    "* Do not change the variable names unless the instructor allows you to.\n",
    "* Answer all the markdown/text cells with 'Question #' on them. Write your answer in the Canvas Quiz.\n",
    "* You are expected to search how to some functions work on the Internet or via the docs. \n",
    "* The notebooks will undergo a 'Restart and Run All' command, so make sure that your code is working properly.\n",
    "* You are expected to understand the dataset loading and processing separately from this class.\n",
    "* You may not reproduce this notebook or share them to anyone."
   ]
  },
  {
   "cell_type": "markdown",
   "metadata": {},
   "source": [
    "## Import Libraries"
   ]
  },
  {
   "cell_type": "code",
   "execution_count": 79,
   "metadata": {},
   "outputs": [],
   "source": [
    "import numpy as np\n",
    "import pandas as pd\n",
    "import matplotlib.pyplot as plt\n",
    "from scipy.stats import chi2_contingency\n",
    "from scipy.stats import norm"
   ]
  },
  {
   "cell_type": "markdown",
   "metadata": {},
   "source": [
    "## Atheism Survey"
   ]
  },
  {
   "cell_type": "markdown",
   "metadata": {},
   "source": [
    "In August of 2012, news outlets ranging from the [Washington Post](http://www.washingtonpost.com/national/on-faith/poll-shows-atheism-on-the-rise-in-the-us/2012/08/13/90020fd6-e57d-11e1-9739-eef99c5fb285_story.html) to the [Huffington Post](http://www.huffingtonpost.com/2012/08/14/atheism-rise-religiosity-decline-in-america_n_1777031.html) presented a story about the rise of atheism in America. They based their story on a poll that asked people, \"Irrespective of whether you attend a place of worship or not, would you say you are a religious person, not a religious person, or a convinced atheist?\" This type of question, which asks people to classify themselves in one way or another, is common in polling and generates categorical data. Let's take a look at the atheism survey and explore what's at play when making inference about population proportions using categorical data.\n",
    "\n",
    "The press release for the poll, conducted by WIN-Gallup International, can be accessed [here](https://www.scribd.com/document/136318147/Win-gallup-International-Global-Index-of-Religiosity-and-Atheism-2012). They interviewed more than 50,000 (51,927 to be exact) people for this survey. Based on the press release, the interviewers communicated with the sample through telephone, online, and face-to-face correspondence."
   ]
  },
  {
   "cell_type": "markdown",
   "metadata": {},
   "source": [
    "Look at [Table 6 in the press release (pages 15 and 16)](https://www.scribd.com/document/136318147/Win-gallup-International-Global-Index-of-Religiosity-and-Atheism-2012), which reports the sample size and response percentages for all 57 countries. While this is a useful format to summarize the data, we will base our analysis on the original dataset of individual responses to the survey. \n",
    "\n",
    "Let's load the dataset:"
   ]
  },
  {
   "cell_type": "code",
   "execution_count": 80,
   "metadata": {},
   "outputs": [
    {
     "data": {
      "text/html": [
       "<div>\n",
       "<style scoped>\n",
       "    .dataframe tbody tr th:only-of-type {\n",
       "        vertical-align: middle;\n",
       "    }\n",
       "\n",
       "    .dataframe tbody tr th {\n",
       "        vertical-align: top;\n",
       "    }\n",
       "\n",
       "    .dataframe thead th {\n",
       "        text-align: right;\n",
       "    }\n",
       "</style>\n",
       "<table border=\"1\" class=\"dataframe\">\n",
       "  <thead>\n",
       "    <tr style=\"text-align: right;\">\n",
       "      <th></th>\n",
       "      <th>nationality</th>\n",
       "      <th>response</th>\n",
       "      <th>year</th>\n",
       "    </tr>\n",
       "  </thead>\n",
       "  <tbody>\n",
       "    <tr>\n",
       "      <th>0</th>\n",
       "      <td>Afghanistan</td>\n",
       "      <td>non-atheist</td>\n",
       "      <td>2012</td>\n",
       "    </tr>\n",
       "    <tr>\n",
       "      <th>1</th>\n",
       "      <td>Afghanistan</td>\n",
       "      <td>non-atheist</td>\n",
       "      <td>2012</td>\n",
       "    </tr>\n",
       "    <tr>\n",
       "      <th>2</th>\n",
       "      <td>Afghanistan</td>\n",
       "      <td>non-atheist</td>\n",
       "      <td>2012</td>\n",
       "    </tr>\n",
       "    <tr>\n",
       "      <th>3</th>\n",
       "      <td>Afghanistan</td>\n",
       "      <td>non-atheist</td>\n",
       "      <td>2012</td>\n",
       "    </tr>\n",
       "    <tr>\n",
       "      <th>4</th>\n",
       "      <td>Afghanistan</td>\n",
       "      <td>non-atheist</td>\n",
       "      <td>2012</td>\n",
       "    </tr>\n",
       "  </tbody>\n",
       "</table>\n",
       "</div>"
      ],
      "text/plain": [
       "   nationality     response  year\n",
       "0  Afghanistan  non-atheist  2012\n",
       "1  Afghanistan  non-atheist  2012\n",
       "2  Afghanistan  non-atheist  2012\n",
       "3  Afghanistan  non-atheist  2012\n",
       "4  Afghanistan  non-atheist  2012"
      ]
     },
     "execution_count": 80,
     "metadata": {},
     "output_type": "execute_result"
    }
   ],
   "source": [
    "atheism_df = pd.read_csv('atheism.csv')\n",
    "atheism_df.head()"
   ]
  },
  {
   "cell_type": "markdown",
   "metadata": {},
   "source": [
    "Call the [`info()`](https://pandas.pydata.org/pandas-docs/stable/reference/api/pandas.DataFrame.info.html) function."
   ]
  },
  {
   "cell_type": "code",
   "execution_count": 81,
   "metadata": {},
   "outputs": [
    {
     "name": "stdout",
     "output_type": "stream",
     "text": [
      "<class 'pandas.core.frame.DataFrame'>\n",
      "RangeIndex: 88032 entries, 0 to 88031\n",
      "Data columns (total 3 columns):\n",
      " #   Column       Non-Null Count  Dtype \n",
      "---  ------       --------------  ----- \n",
      " 0   nationality  88032 non-null  object\n",
      " 1   response     88032 non-null  object\n",
      " 2   year         88032 non-null  int64 \n",
      "dtypes: int64(1), object(2)\n",
      "memory usage: 2.0+ MB\n"
     ]
    }
   ],
   "source": [
    "atheism_df.info()"
   ]
  },
  {
   "cell_type": "markdown",
   "metadata": {},
   "source": [
    "To investigate the link between these two ways of organizing this data, take a look at the estimated proportion of atheists in the United States. Towards the bottom of Table 6, we see that this is 5%. We should be able to come to the same number using the `atheism_df` data."
   ]
  },
  {
   "cell_type": "markdown",
   "metadata": {},
   "source": [
    "Let us create a new `DataFrame` containing only the rows from `atheism_df` associated with respondents to the 2012 survey from the United States."
   ]
  },
  {
   "cell_type": "code",
   "execution_count": 82,
   "metadata": {},
   "outputs": [],
   "source": [
    "us12 = atheism_df[(atheism_df['year'] == 2012) &\n",
    "                  (atheism_df['nationality'] == 'United States')]"
   ]
  },
  {
   "cell_type": "markdown",
   "metadata": {},
   "source": [
    "Next, calculate the proportion of atheist responses for people interviewed from the United States in 2012. Express your answer in a percentage from 0 to 100. Limit to 4 decimal places."
   ]
  },
  {
   "cell_type": "code",
   "execution_count": 83,
   "metadata": {},
   "outputs": [
    {
     "name": "stdout",
     "output_type": "stream",
     "text": [
      "1002\n",
      "50\n",
      "0.0499001996007984\n"
     ]
    }
   ],
   "source": [
    "# Write your code here\n",
    "\n",
    "n = us12.shape[0]\n",
    "num_atheists = us12[us12['response'] == 'atheist'].shape[0]\n",
    "p = num_atheists / n\n",
    "print(n)\n",
    "print(num_atheists)\n",
    "print(p)"
   ]
  },
  {
   "cell_type": "markdown",
   "metadata": {},
   "source": [
    "**Question #1:** How does the proportion compare with the proportion presented in [Table 6](https://www.scribd.com/document/136318147/Win-gallup-International-Global-Index-of-Religiosity-and-Atheism-2012)? Is it very different or is it almost the same?"
   ]
  },
  {
   "cell_type": "markdown",
   "metadata": {},
   "source": [
    "### Inference on Survey Data\n",
    "\n",
    "The statistics we compute from our dataset are **sample statistics**. What we'd like, though, is insight into the **population parameters**. The question, \"What proportion of people in your sample reported being atheists?\" is answered with a *statistic*; while the question \"What proportion of people on earth would report being atheists\" is answered with *an estimate of the parameter*."
   ]
  },
  {
   "cell_type": "markdown",
   "metadata": {},
   "source": [
    "**Question #2:** Are you confident that all conditions for constructing a 95% confidence interval for the proportion of atheists in the United States in 2012 are met?"
   ]
  },
  {
   "cell_type": "markdown",
   "metadata": {},
   "source": [
    "Construct a 95% confidence interval for the proportion of atheists in United States in 2012. We will report the result as:\n",
    "\n",
    "$$p \\pm ME$$\n",
    "\n",
    "where $p$ is the proportion and $ME$ is the margin of error."
   ]
  },
  {
   "cell_type": "markdown",
   "metadata": {},
   "source": [
    "As we are dealing with categorical data, we cannot use the previous notebook's margin of error formula since it requires the standard deviation. As such, we are going to obtain the margin of error through the standard error of a **sample proportion**, as presented in the formula below:\n",
    "\n",
    "$$ME =  z^* \\times \\sqrt{\\frac{p(1-p)}{n}}$$\n",
    "\n",
    "where $z^*$ still representing the critical value."
   ]
  },
  {
   "cell_type": "markdown",
   "metadata": {},
   "source": [
    "Compute the margin of error."
   ]
  },
  {
   "cell_type": "code",
   "execution_count": 84,
   "metadata": {},
   "outputs": [
    {
     "name": "stdout",
     "output_type": "stream",
     "text": [
      "1.959963984540054\n"
     ]
    }
   ],
   "source": [
    "# Write your code here\n",
    "alpha = 0.05\n",
    "z_star_95_two_tailed = norm.ppf(1 - alpha / 2)\n",
    "margin_of_error = z_star_95_two_tailed * np.sqrt((p * (1 - p)) /  n)\n",
    "print(z_star_95_two_tailed)\n",
    "# print(margin_of_error)"
   ]
  },
  {
   "cell_type": "markdown",
   "metadata": {},
   "source": [
    "Display the margin of error."
   ]
  },
  {
   "cell_type": "code",
   "execution_count": 85,
   "metadata": {},
   "outputs": [
    {
     "name": "stdout",
     "output_type": "stream",
     "text": [
      "1.3482\n"
     ]
    }
   ],
   "source": [
    "print('{:.4f}'.format(margin_of_error * 100))"
   ]
  },
  {
   "cell_type": "markdown",
   "metadata": {},
   "source": [
    "**Question #3:** Given a 95% confidence level, what is the margin of error? Express your answer in a percentage from 0 to 100. Limit to 4 decimal places."
   ]
  },
  {
   "cell_type": "markdown",
   "metadata": {},
   "source": [
    "Compute the confidence interval (minimum value, maximum value)."
   ]
  },
  {
   "cell_type": "code",
   "execution_count": 86,
   "metadata": {
    "scrolled": true
   },
   "outputs": [],
   "source": [
    "# Write your code here\n",
    "minimum_value = p - margin_of_error\n",
    "maximum_value = p + margin_of_error\n"
   ]
  },
  {
   "cell_type": "markdown",
   "metadata": {},
   "source": [
    "Display the minimum and maximum values."
   ]
  },
  {
   "cell_type": "code",
   "execution_count": 87,
   "metadata": {},
   "outputs": [
    {
     "name": "stdout",
     "output_type": "stream",
     "text": [
      "Minimum value: 3.6418 \n",
      "Maximum value: 6.3382\n"
     ]
    }
   ],
   "source": [
    "print('Minimum value: {:.4f}'.format(minimum_value * 100), '\\nMaximum value: {:.4f}'.format(maximum_value * 100))"
   ]
  },
  {
   "cell_type": "markdown",
   "metadata": {},
   "source": [
    "**Question #4:** What is the minimum value of the 95% confidence interval? Express your answer in a percentage from 0 to 100. Limit to 4 decimal places."
   ]
  },
  {
   "cell_type": "markdown",
   "metadata": {},
   "source": [
    "**Question #5:** What is the maximum value of the 95% confidence interval? Express your answer in a percentage from 0 to 100. Limit to 4 decimal places."
   ]
  },
  {
   "cell_type": "markdown",
   "metadata": {},
   "source": [
    "Although formal confidence intervals and hypothesis tests don't show up in the report, suggestions of inference appear at the bottom of page 7: \"In general, the error margin for surveys of this kind is $\\pm$ 3-5% at 95% confidence.\""
   ]
  },
  {
   "cell_type": "markdown",
   "metadata": {},
   "source": [
    "## Proportion and Margin of Error\n",
    "\n",
    "Imagine you interviewed 1000 people on two questions: are you religious? and are you from Luzon? Even though both of these sample proportions are calculated from the same sample size, they might not have the same margin of error. Aside from being affected by the sample size, the margin of error is also affected by the proportion.\n",
    "\n",
    "Since the population proportion $p$ is in this $ME$ formula, it should make sense that the margin of error is in some way dependent on the population proportion. We can visualize this relationship by creating a plot of $ME$ vs. $p$."
   ]
  },
  {
   "cell_type": "markdown",
   "metadata": {},
   "source": [
    "Generate values from 0 to 1 with interval of 0.01. Store the values in variable `p`."
   ]
  },
  {
   "cell_type": "code",
   "execution_count": 88,
   "metadata": {},
   "outputs": [
    {
     "name": "stdout",
     "output_type": "stream",
     "text": [
      "[0.   0.01 0.02 0.03 0.04 0.05 0.06 0.07 0.08 0.09 0.1  0.11 0.12 0.13\n",
      " 0.14 0.15 0.16 0.17 0.18 0.19 0.2  0.21 0.22 0.23 0.24 0.25 0.26 0.27\n",
      " 0.28 0.29 0.3  0.31 0.32 0.33 0.34 0.35 0.36 0.37 0.38 0.39 0.4  0.41\n",
      " 0.42 0.43 0.44 0.45 0.46 0.47 0.48 0.49 0.5  0.51 0.52 0.53 0.54 0.55\n",
      " 0.56 0.57 0.58 0.59 0.6  0.61 0.62 0.63 0.64 0.65 0.66 0.67 0.68 0.69\n",
      " 0.7  0.71 0.72 0.73 0.74 0.75 0.76 0.77 0.78 0.79 0.8  0.81 0.82 0.83\n",
      " 0.84 0.85 0.86 0.87 0.88 0.89 0.9  0.91 0.92 0.93 0.94 0.95 0.96 0.97\n",
      " 0.98 0.99 1.  ]\n"
     ]
    }
   ],
   "source": [
    "# Write your code here\n",
    "p = np.linspace(0, 1, 101)\n",
    "print(p)"
   ]
  },
  {
   "cell_type": "markdown",
   "metadata": {},
   "source": [
    "Let's set the sample size `n` to 1000."
   ]
  },
  {
   "cell_type": "code",
   "execution_count": 89,
   "metadata": {},
   "outputs": [],
   "source": [
    "n = 1000"
   ]
  },
  {
   "cell_type": "markdown",
   "metadata": {},
   "source": [
    "Compute the margin of error for each value in `p` given a 99% confidence level. Store the values in variable `me`."
   ]
  },
  {
   "cell_type": "code",
   "execution_count": 90,
   "metadata": {},
   "outputs": [
    {
     "name": "stdout",
     "output_type": "stream",
     "text": [
      "0.0   0.0\n",
      "0.01   0.008104657694814138\n",
      "0.02   0.011403682448227667\n",
      "0.03   0.013895160707588715\n",
      "0.04   0.015961830392508702\n",
      "0.05   0.017752678348590324\n",
      "0.06   0.019344460920315054\n",
      "0.07   0.02078296823667113\n",
      "0.08   0.022098153539043968\n",
      "0.09   0.023310899416874448\n",
      "0.1   0.024436462389059287\n",
      "0.11   0.025486395924884647\n",
      "0.12   0.026469701189621317\n",
      "0.13   0.02739355408806056\n",
      "0.14   0.028263785145711713\n",
      "0.15   0.029085207866374356\n",
      "0.16   0.029861850297281493\n",
      "0.17   0.030597122583734787\n",
      "0.18   0.03129394092010035\n",
      "0.19   0.03195482102746258\n",
      "0.2   0.03258194985207906\n",
      "0.21   0.03317724138787641\n",
      "0.22   0.03374238072121231\n",
      "0.23   0.034278859199816686\n",
      "0.24   0.03478800281744081\n",
      "0.25   0.035270995345913866\n",
      "0.26   0.035728897352653936\n",
      "0.27   0.03616266196038783\n",
      "0.28   0.036573148001858916\n",
      "0.29   0.03696113107238829\n",
      "0.3   0.03732731287160187\n",
      "0.31   0.037672329141671575\n",
      "0.32   0.037996756445546974\n",
      "0.33   0.03830111797958109\n",
      "0.34   0.03858588857690283\n",
      "0.35000000000000003   0.03885149902812408\n",
      "0.36   0.03909833982249486\n",
      "0.37   0.03932676439396006\n",
      "0.38   0.039537091941626135\n",
      "0.39   0.03972960988208853\n",
      "0.4   0.03990457598127176\n",
      "0.41000000000000003   0.040062220205413376\n",
      "0.42   0.04020274632420984\n",
      "0.43   0.04032633329364696\n",
      "0.44   0.04043313644143411\n",
      "0.45   0.04052328847407069\n",
      "0.46   0.04059690032125198\n",
      "0.47000000000000003   0.04065406183045409\n",
      "0.48   0.040694842322030134\n",
      "0.49   0.0407192910129241\n",
      "0.5   0.04072743731509881\n",
      "0.51   0.0407192910129241\n",
      "0.52   0.040694842322030134\n",
      "0.53   0.04065406183045409\n",
      "0.54   0.04059690032125198\n",
      "0.55   0.04052328847407069\n",
      "0.56   0.04043313644143411\n",
      "0.5700000000000001   0.04032633329364696\n",
      "0.58   0.04020274632420984\n",
      "0.59   0.040062220205413376\n",
      "0.6   0.03990457598127176\n",
      "0.61   0.03972960988208853\n",
      "0.62   0.039537091941626135\n",
      "0.63   0.03932676439396006\n",
      "0.64   0.03909833982249486\n",
      "0.65   0.03885149902812408\n",
      "0.66   0.03858588857690283\n",
      "0.67   0.03830111797958109\n",
      "0.68   0.037996756445546974\n",
      "0.6900000000000001   0.037672329141671575\n",
      "0.7000000000000001   0.03732731287160187\n",
      "0.71   0.0369611310723883\n",
      "0.72   0.036573148001858916\n",
      "0.73   0.03616266196038783\n",
      "0.74   0.035728897352653936\n",
      "0.75   0.035270995345913866\n",
      "0.76   0.03478800281744081\n",
      "0.77   0.03427885919981668\n",
      "0.78   0.03374238072121231\n",
      "0.79   0.03317724138787641\n",
      "0.8   0.03258194985207905\n",
      "0.81   0.031954821027462575\n",
      "0.8200000000000001   0.03129394092010034\n",
      "0.8300000000000001   0.030597122583734784\n",
      "0.84   0.029861850297281497\n",
      "0.85   0.029085207866374356\n",
      "0.86   0.028263785145711713\n",
      "0.87   0.02739355408806056\n",
      "0.88   0.026469701189621317\n",
      "0.89   0.025486395924884647\n",
      "0.9   0.024436462389059284\n",
      "0.91   0.02331089941687444\n",
      "0.92   0.02209815353904396\n",
      "0.93   0.020782968236671123\n",
      "0.9400000000000001   0.019344460920315047\n",
      "0.9500000000000001   0.01775267834859031\n",
      "0.96   0.015961830392508713\n",
      "0.97   0.01389516070758872\n",
      "0.98   0.011403682448227672\n",
      "0.99   0.008104657694814141\n",
      "1.0   0.0\n"
     ]
    }
   ],
   "source": [
    "# Write your code here\n",
    "alpha1 = 0.01\n",
    "z_star_95_two_tailed2 = norm.ppf(1 - alpha1 / 2)\n",
    "me = []\n",
    "\n",
    "for i in range(len(p-1)):\n",
    "    sqrt_val = (p[i] * (1 - p[i])) / n\n",
    "    me.append(z_star_95_two_tailed2 * np.sqrt(sqrt_val))\n",
    "\n",
    "for i in range(len(p-1)):\n",
    "    print(p[i] , \" \" , me[i])\n"
   ]
  },
  {
   "cell_type": "markdown",
   "metadata": {},
   "source": [
    "Let's plot the relationship between `p` and `me`."
   ]
  },
  {
   "cell_type": "code",
   "execution_count": 91,
   "metadata": {},
   "outputs": [
    {
     "data": {
      "text/plain": [
       "Text(0, 0.5, 'Margin of Error')"
      ]
     },
     "execution_count": 91,
     "metadata": {},
     "output_type": "execute_result"
    },
    {
     "data": {
      "image/png": "[encoded data removed]",
      "text/plain": [
       "<Figure size 640x480 with 1 Axes>"
      ]
     },
     "metadata": {},
     "output_type": "display_data"
    }
   ],
   "source": [
    "plt.plot(p, me, 'k')\n",
    "plt.xlabel('Proportion')\n",
    "plt.ylabel('Margin of Error')"
   ]
  },
  {
   "cell_type": "markdown",
   "metadata": {},
   "source": [
    "**Question #6:** When do we get a low margin of error?"
   ]
  },
  {
   "cell_type": "markdown",
   "metadata": {},
   "source": [
    "**Question #7:** When do we get a high margin of error?"
   ]
  },
  {
   "cell_type": "markdown",
   "metadata": {},
   "source": [
    "## Behavioral Survey Data\n",
    "\n",
    "Next, we will look at behaviorial survey data. The Behavioral Risk Factor Surveillance System (BRFSS) is an annual telephone survey of 350,000 people in the United States collected by the Centers for Disease Control and Prevention (CDC). The BRFSS identifies risk factors in the adult population and report emerging health trends. For example, respondents are asked about their diet and weekly physical activity, their HIV/AIDS status, possible tobacco use, and even their level of healthcare coverage. The [BRFSS website](https://www.openintro.org/redirect.php?go=cdc_data_brfss&referrer=data_set_page) contains a complete description of the survey, the questions that were asked, and even research results that have been derived from the data.\n",
    "\n",
    "This dataset is a random sample of 20,000 people from the BRFSS survey conducted in 2000. While there are over 200 questions or variables in this dataset, the one will we will use in this Notebok only includes 3 variables."
   ]
  },
  {
   "cell_type": "code",
   "execution_count": 92,
   "metadata": {
    "scrolled": true
   },
   "outputs": [
    {
     "data": {
      "text/html": [
       "<div>\n",
       "<style scoped>\n",
       "    .dataframe tbody tr th:only-of-type {\n",
       "        vertical-align: middle;\n",
       "    }\n",
       "\n",
       "    .dataframe tbody tr th {\n",
       "        vertical-align: top;\n",
       "    }\n",
       "\n",
       "    .dataframe thead th {\n",
       "        text-align: right;\n",
       "    }\n",
       "</style>\n",
       "<table border=\"1\" class=\"dataframe\">\n",
       "  <thead>\n",
       "    <tr style=\"text-align: right;\">\n",
       "      <th></th>\n",
       "      <th>genhlth</th>\n",
       "      <th>smoke100</th>\n",
       "      <th>exerany</th>\n",
       "    </tr>\n",
       "  </thead>\n",
       "  <tbody>\n",
       "    <tr>\n",
       "      <th>0</th>\n",
       "      <td>good</td>\n",
       "      <td>0</td>\n",
       "      <td>0</td>\n",
       "    </tr>\n",
       "    <tr>\n",
       "      <th>1</th>\n",
       "      <td>good</td>\n",
       "      <td>1</td>\n",
       "      <td>0</td>\n",
       "    </tr>\n",
       "    <tr>\n",
       "      <th>2</th>\n",
       "      <td>good</td>\n",
       "      <td>1</td>\n",
       "      <td>1</td>\n",
       "    </tr>\n",
       "    <tr>\n",
       "      <th>3</th>\n",
       "      <td>good</td>\n",
       "      <td>0</td>\n",
       "      <td>1</td>\n",
       "    </tr>\n",
       "    <tr>\n",
       "      <th>4</th>\n",
       "      <td>very good</td>\n",
       "      <td>0</td>\n",
       "      <td>0</td>\n",
       "    </tr>\n",
       "  </tbody>\n",
       "</table>\n",
       "</div>"
      ],
      "text/plain": [
       "     genhlth  smoke100  exerany\n",
       "0       good         0        0\n",
       "1       good         1        0\n",
       "2       good         1        1\n",
       "3       good         0        1\n",
       "4  very good         0        0"
      ]
     },
     "execution_count": 92,
     "metadata": {},
     "output_type": "execute_result"
    }
   ],
   "source": [
    "cdc_df = pd.read_csv('cdcpartial.csv')\n",
    "cdc_df.head()"
   ]
  },
  {
   "cell_type": "markdown",
   "metadata": {},
   "source": [
    "Call the [`info()`](https://pandas.pydata.org/pandas-docs/stable/reference/api/pandas.DataFrame.info.html) function."
   ]
  },
  {
   "cell_type": "code",
   "execution_count": 93,
   "metadata": {},
   "outputs": [
    {
     "name": "stdout",
     "output_type": "stream",
     "text": [
      "<class 'pandas.core.frame.DataFrame'>\n",
      "RangeIndex: 20000 entries, 0 to 19999\n",
      "Data columns (total 3 columns):\n",
      " #   Column    Non-Null Count  Dtype \n",
      "---  ------    --------------  ----- \n",
      " 0   genhlth   20000 non-null  object\n",
      " 1   smoke100  20000 non-null  int64 \n",
      " 2   exerany   20000 non-null  int64 \n",
      "dtypes: int64(2), object(1)\n",
      "memory usage: 468.9+ KB\n"
     ]
    }
   ],
   "source": [
    "cdc_df.info()"
   ]
  },
  {
   "cell_type": "markdown",
   "metadata": {},
   "source": [
    "The variables in this Notebook are as follows:\n",
    "\n",
    "- `genhlth` - A categorical vector indicating general health, with categories `excellent`, `very good`, `good`, `fair`, and `poor`.\n",
    "- `smoke100` - A categorical vector, 1 if the respondent has smoked at least 100 cigarettes in their entire life and 0 otherwise.\n",
    "- `exerany` - A categorical vector, 1 if the respondent exercised in the past month and 0 otherwise."
   ]
  },
  {
   "cell_type": "markdown",
   "metadata": {},
   "source": [
    "### Test of Independence Using Pearson's Chi-Squared Test\n",
    "Let's check if the general health of people is independent of whether they exercised in the past month or not."
   ]
  },
  {
   "cell_type": "markdown",
   "metadata": {},
   "source": [
    "First, group the sample depending on whether they exercised or not in the past month. This should produce two groups. Afterwards, count the number of people in each group for each general health level. \n",
    "\n",
    "Store the values in variable `counts`."
   ]
  },
  {
   "cell_type": "code",
   "execution_count": 94,
   "metadata": {},
   "outputs": [
    {
     "name": "stdout",
     "output_type": "stream",
     "text": [
      "exerany  genhlth  \n",
      "0        excellent     762\n",
      "         fair          857\n",
      "         good         1731\n",
      "         poor          384\n",
      "         very good    1352\n",
      "1        excellent    3895\n",
      "         fair         1162\n",
      "         good         3944\n",
      "         poor          293\n",
      "         very good    5620\n",
      "dtype: int64\n"
     ]
    }
   ],
   "source": [
    "# Write your code here\n",
    "grouped = cdc_df.groupby([\"exerany\", \"genhlth\"])\n",
    "counts = grouped.size()\n",
    "print(counts)"
   ]
  },
  {
   "cell_type": "markdown",
   "metadata": {},
   "source": [
    "Let's display the count per subgroup."
   ]
  },
  {
   "cell_type": "code",
   "execution_count": 95,
   "metadata": {},
   "outputs": [
    {
     "data": {
      "text/plain": [
       "exerany  genhlth  \n",
       "0        excellent     762\n",
       "         fair          857\n",
       "         good         1731\n",
       "         poor          384\n",
       "         very good    1352\n",
       "1        excellent    3895\n",
       "         fair         1162\n",
       "         good         3944\n",
       "         poor          293\n",
       "         very good    5620\n",
       "dtype: int64"
      ]
     },
     "execution_count": 95,
     "metadata": {},
     "output_type": "execute_result"
    }
   ],
   "source": [
    "counts"
   ]
  },
  {
   "cell_type": "markdown",
   "metadata": {},
   "source": [
    "**Question #8:** How many of the respondents exercised last month and reported 'excellent' general health?"
   ]
  },
  {
   "cell_type": "markdown",
   "metadata": {},
   "source": [
    "At first glance, it appears that people who have exercised in the past month has better general health, but we do not know if this difference is statistically significant.\n",
    "\n",
    "Let's use the chi-square test to determine whether the general health of people is independent of whether they exercised in the past month or not."
   ]
  },
  {
   "cell_type": "markdown",
   "metadata": {},
   "source": [
    "First, we need to convert our counts into a table format. We will create a new DataFrame for this."
   ]
  },
  {
   "cell_type": "code",
   "execution_count": 96,
   "metadata": {},
   "outputs": [
    {
     "data": {
      "text/html": [
       "<div>\n",
       "<style scoped>\n",
       "    .dataframe tbody tr th:only-of-type {\n",
       "        vertical-align: middle;\n",
       "    }\n",
       "\n",
       "    .dataframe tbody tr th {\n",
       "        vertical-align: top;\n",
       "    }\n",
       "\n",
       "    .dataframe thead th {\n",
       "        text-align: right;\n",
       "    }\n",
       "</style>\n",
       "<table border=\"1\" class=\"dataframe\">\n",
       "  <thead>\n",
       "    <tr style=\"text-align: right;\">\n",
       "      <th>genhlth</th>\n",
       "      <th>excellent</th>\n",
       "      <th>fair</th>\n",
       "      <th>good</th>\n",
       "      <th>poor</th>\n",
       "      <th>very good</th>\n",
       "    </tr>\n",
       "  </thead>\n",
       "  <tbody>\n",
       "    <tr>\n",
       "      <th>no exercise</th>\n",
       "      <td>762</td>\n",
       "      <td>857</td>\n",
       "      <td>1731</td>\n",
       "      <td>384</td>\n",
       "      <td>1352</td>\n",
       "    </tr>\n",
       "    <tr>\n",
       "      <th>exercise</th>\n",
       "      <td>3895</td>\n",
       "      <td>1162</td>\n",
       "      <td>3944</td>\n",
       "      <td>293</td>\n",
       "      <td>5620</td>\n",
       "    </tr>\n",
       "  </tbody>\n",
       "</table>\n",
       "</div>"
      ],
      "text/plain": [
       "genhlth      excellent  fair  good  poor  very good\n",
       "no exercise        762   857  1731   384       1352\n",
       "exercise          3895  1162  3944   293       5620"
      ]
     },
     "execution_count": 96,
     "metadata": {},
     "output_type": "execute_result"
    }
   ],
   "source": [
    "table = pd.DataFrame([counts[0], counts[1]], index=['no exercise', 'exercise'])\n",
    "table"
   ]
  },
  {
   "cell_type": "markdown",
   "metadata": {},
   "source": [
    "We then use the [`chi2_contingency()`](https://docs.scipy.org/doc/scipy/reference/generated/scipy.stats.chi2_contingency.html) function from SciPy to perform a Chi-Square test on this table. This function will automatically perform the necessary steps for a Chi-Square test:\n",
    "\n",
    "- Compute the expected values for each cell under the null hypothesis\n",
    "- Compute the Chi-Square statistic\n",
    "- Compute the $p$-value of the statistic based on the Chi-Square distribution with the appropriate degrees of freedom"
   ]
  },
  {
   "cell_type": "code",
   "execution_count": 97,
   "metadata": {},
   "outputs": [
    {
     "name": "stdout",
     "output_type": "stream",
     "text": [
      "Chi-Square Statistic: 1070.8128\n",
      "p-value:  1.6049383557705677e-230\n",
      "Degrees of Freedom: 4\n",
      "Expected Frequencies:\n",
      "[[1184.2751  513.4317 1443.1525  172.1611 1772.9796]\n",
      " [3472.7249 1505.5683 4231.8475  504.8389 5199.0204]]\n"
     ]
    }
   ],
   "source": [
    "# Write your code here\n",
    "chi2, p, dof, expected = chi2_contingency(table)\n",
    "\n",
    "print(\"Chi-Square Statistic: {0:.4f}\".format(chi2))\n",
    "print(\"p-value: \", p)\n",
    "print(\"Degrees of Freedom:\", dof)\n",
    "print(\"Expected Frequencies:\")\n",
    "print(expected)\n"
   ]
  },
  {
   "cell_type": "markdown",
   "metadata": {},
   "source": [
    "To further understand the parameters and the return values of the `chi2_contingency()` function, you may refer to the documentation [here](https://docs.scipy.org/doc/scipy/reference/generated/scipy.stats.chi2_contingency.html)."
   ]
  },
  {
   "cell_type": "markdown",
   "metadata": {},
   "source": [
    "**Question #9:** Briefly state the null hypothesis."
   ]
  },
  {
   "cell_type": "markdown",
   "metadata": {},
   "source": [
    "**Question #10:** What is the value of the chi-square statistic? Limit to 4 decimal places."
   ]
  },
  {
   "cell_type": "markdown",
   "metadata": {},
   "source": [
    "**Question #11:** What is the expected count for those who did not exercise in the last month but reported 'good' general health? Limit to 4 decimal places."
   ]
  },
  {
   "cell_type": "markdown",
   "metadata": {},
   "source": [
    "**Question #12:** At a significance level of 0.05, what can we conclude from the $p$-value?"
   ]
  },
  {
   "cell_type": "markdown",
   "metadata": {},
   "source": [
    "### Another Test of Independence Using Pearson's Chi-Squared Test\n",
    "\n",
    "\n",
    "Let's check if the general health of people is independent of whether they have smoked at least 100 cigarettes in their entire life or not."
   ]
  },
  {
   "cell_type": "markdown",
   "metadata": {},
   "source": [
    "First, group the sample depending on whether they have smoked at least 100 cigarettes in their entire life or not. This should produce two groups. Afterwards, count the number of people in each group for each general health level. \n",
    "\n",
    "Store the values in variable `counts`."
   ]
  },
  {
   "cell_type": "code",
   "execution_count": 104,
   "metadata": {},
   "outputs": [
    {
     "name": "stdout",
     "output_type": "stream",
     "text": [
      "smoke100  genhlth  \n",
      "0         excellent    2879\n",
      "          fair          911\n",
      "          good         2782\n",
      "          poor          229\n",
      "          very good    3758\n",
      "1         excellent    1778\n",
      "          fair         1108\n",
      "          good         2893\n",
      "          poor          448\n",
      "          very good    3214\n",
      "dtype: int64\n"
     ]
    }
   ],
   "source": [
    "# Write your code here\n",
    "# grouped = cdc_df.groupby([\"exerany\", \"genhlth\"])\n",
    "grouped2 = cdc_df.groupby([\"smoke100\", \"genhlth\"])\n",
    "counts2 = grouped2.size()\n",
    "print(counts2)\n"
   ]
  },
  {
   "cell_type": "markdown",
   "metadata": {},
   "source": [
    "Let's display the count per subgroup."
   ]
  },
  {
   "cell_type": "code",
   "execution_count": 105,
   "metadata": {},
   "outputs": [
    {
     "data": {
      "text/plain": [
       "smoke100  genhlth  \n",
       "0         excellent    2879\n",
       "          fair          911\n",
       "          good         2782\n",
       "          poor          229\n",
       "          very good    3758\n",
       "1         excellent    1778\n",
       "          fair         1108\n",
       "          good         2893\n",
       "          poor          448\n",
       "          very good    3214\n",
       "dtype: int64"
      ]
     },
     "execution_count": 105,
     "metadata": {},
     "output_type": "execute_result"
    }
   ],
   "source": [
    "counts2"
   ]
  },
  {
   "cell_type": "markdown",
   "metadata": {},
   "source": [
    "Convert our counts into a table format. The `DataFrame` should have 2 columns and 5 rows."
   ]
  },
  {
   "cell_type": "code",
   "execution_count": 110,
   "metadata": {},
   "outputs": [
    {
     "data": {
      "text/html": [
       "<div>\n",
       "<style scoped>\n",
       "    .dataframe tbody tr th:only-of-type {\n",
       "        vertical-align: middle;\n",
       "    }\n",
       "\n",
       "    .dataframe tbody tr th {\n",
       "        vertical-align: top;\n",
       "    }\n",
       "\n",
       "    .dataframe thead th {\n",
       "        text-align: right;\n",
       "    }\n",
       "</style>\n",
       "<table border=\"1\" class=\"dataframe\">\n",
       "  <thead>\n",
       "    <tr style=\"text-align: right;\">\n",
       "      <th>genhlth</th>\n",
       "      <th>excellent</th>\n",
       "      <th>fair</th>\n",
       "      <th>good</th>\n",
       "      <th>poor</th>\n",
       "      <th>very good</th>\n",
       "    </tr>\n",
       "  </thead>\n",
       "  <tbody>\n",
       "    <tr>\n",
       "      <th>not_smoked100</th>\n",
       "      <td>2879</td>\n",
       "      <td>911</td>\n",
       "      <td>2782</td>\n",
       "      <td>229</td>\n",
       "      <td>3758</td>\n",
       "    </tr>\n",
       "    <tr>\n",
       "      <th>smoked100</th>\n",
       "      <td>1778</td>\n",
       "      <td>1108</td>\n",
       "      <td>2893</td>\n",
       "      <td>448</td>\n",
       "      <td>3214</td>\n",
       "    </tr>\n",
       "  </tbody>\n",
       "</table>\n",
       "</div>"
      ],
      "text/plain": [
       "genhlth        excellent  fair  good  poor  very good\n",
       "not_smoked100       2879   911  2782   229       3758\n",
       "smoked100           1778  1108  2893   448       3214"
      ]
     },
     "execution_count": 110,
     "metadata": {},
     "output_type": "execute_result"
    }
   ],
   "source": [
    "# Write your code here\n",
    "table2 = pd.DataFrame([counts2[0], counts2[1]], index=['not_smoked100', 'smoked100'])\n",
    "table2"
   ]
  },
  {
   "cell_type": "markdown",
   "metadata": {},
   "source": [
    "**Question #13:** How many smoked less than 100 cigarettes in their entire life but have a 'poor' general health level?"
   ]
  },
  {
   "cell_type": "markdown",
   "metadata": {},
   "source": [
    "Compute the $p$-value."
   ]
  },
  {
   "cell_type": "code",
   "execution_count": 111,
   "metadata": {},
   "outputs": [
    {
     "name": "stdout",
     "output_type": "stream",
     "text": [
      "Chi-Square Statistic: 333.5253\n",
      "p-value:  6.318174106818791e-71\n",
      "Degrees of Freedom: 4\n",
      "Expected Frequencies:\n",
      "[[2458.66315 1065.93105 2996.11625  357.42215 3680.8674 ]\n",
      " [2198.33685  953.06895 2678.88375  319.57785 3291.1326 ]]\n"
     ]
    }
   ],
   "source": [
    "# Write your code here\n",
    "chi2, p, dof, expected = chi2_contingency(table2)\n",
    "\n",
    "print(\"Chi-Square Statistic: {0:.4f}\".format(chi2))\n",
    "print(\"p-value: \", p)\n",
    "print(\"Degrees of Freedom:\", dof)\n",
    "print(\"Expected Frequencies:\")\n",
    "print(expected)"
   ]
  },
  {
   "cell_type": "markdown",
   "metadata": {},
   "source": [
    "**Question #14:** Briefly state the null hypothesis."
   ]
  },
  {
   "cell_type": "markdown",
   "metadata": {},
   "source": [
    "**Question #15:** What is the value of the chi-square statistic? Limit to 4 decimal places."
   ]
  },
  {
   "cell_type": "markdown",
   "metadata": {},
   "source": [
    "**Question #16:** At a significance level of 0.05, what can we conclude from the $p$-value?"
   ]
  }
 ],
 "metadata": {
  "kernelspec": {
   "display_name": "Python 3",
   "language": "python",
   "name": "python3"
  },
  "language_info": {
   "codemirror_mode": {
    "name": "ipython",
    "version": 3
   },
   "file_extension": ".py",
   "mimetype": "text/x-python",
   "name": "python",
   "nbconvert_exporter": "python",
   "pygments_lexer": "ipython3",
   "version": "3.11.5"
  }
 },
 "nbformat": 4,
 "nbformat_minor": 4
}
