pu.loc['mean'][0]
popu_median = agg_popu.loc['median'][0]
popu_std = agg_pop